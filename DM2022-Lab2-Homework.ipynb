{
 "cells": [
  {
   "attachments": {
    "kaggle.png": {
     "image/png": "[encoded data removed]"
    }
   },
   "cell_type": "markdown",
   "metadata": {},
   "source": [
    "### Student Information\n",
    "Name:王聿峰\n",
    "\n",
    "Student ID:110030751\n",
    "\n",
    "GitHub ID:phocion1109\n",
    "\n",
    "Kaggle name:test123\n",
    "\n",
    "Kaggle private scoreboard snapshot:\n",
    "![kaggle.png](attachment:kaggle.png)"
   ]
  },
  {
   "cell_type": "markdown",
   "metadata": {},
   "source": [
    "---"
   ]
  },
  {
   "cell_type": "markdown",
   "metadata": {},
   "source": [
    "### Instructions"
   ]
  },
  {
   "cell_type": "markdown",
   "metadata": {},
   "source": [
    "1. First: __This part is worth 30% of your grade.__ Do the **take home** exercises in the [DM2022-Lab2-master Repo](https://github.com/keziatamus/DM2022-Lab2-Master). You may need to copy some cells from the Lab notebook to this notebook. \n",
    "\n",
    "\n",
    "2. Second: __This part is worth 30% of your grade.__ Participate in the in-class [Kaggle Competition](https://www.kaggle.com/competitions/dm2022-isa5810-lab2-homework) regarding Emotion Recognition on Twitter by this link https://www.kaggle.com/t/2b0d14a829f340bc88d2660dc602d4bd. The scoring will be given according to your place in the Private Leaderboard ranking: \n",
    "    - **Bottom 40%**: Get 20% of the 30% available for this section.\n",
    "\n",
    "    - **Top 41% - 100%**: Get (60-x)/6 + 20 points, where x is your ranking in the leaderboard (ie. If you rank 3rd your score will be (60-3)/6 + 20 = 29.5% out of 30%)   \n",
    "    Submit your last submission __BEFORE the deadline (Nov. 22th 11:59 pm, Tuesday)_. Make sure to take a screenshot of your position at the end of the competition and store it as '''pic0.png''' under the **img** folder of this repository and rerun the cell **Student Information**.\n",
    "    \n",
    "\n",
    "3. Third: __This part is worth 30% of your grade.__ A report of your work developping the model for the competition (You can use code and comment it). This report should include what your preprocessing steps, the feature engineering steps and an explanation of your model. You can also mention different things you tried and insights you gained. \n",
    "\n",
    "\n",
    "4. Fourth: __This part is worth 10% of your grade.__ It's hard for us to follow if your code is messy :'(, so please **tidy up your notebook** and **add minimal comments where needed**.\n",
    "\n",
    "\n",
    "Upload your files to your repository then submit the link to it on the corresponding e-learn assignment.\n",
    "\n",
    "Make sure to commit and save your changes to your repository __BEFORE the deadline (Nov. 27th 11:59 pm, Friday)__. "
   ]
  },
  {
   "cell_type": "markdown",
   "metadata": {},
   "source": [
    "# Lab2 Take Home Exercise\n",
    "Please see the link: https://github.com/phocion1109/DM2022-Lab2-Homework/blob/main/DM2022-Lab2-Master.ipynb"
   ]
  },
  {
   "cell_type": "markdown",
   "metadata": {},
   "source": [
    "# Report\n",
    "## 1. Data Preparation\n",
    "1.1 Load data  \n",
    "Step 1. read all jaon files and transform to dataframe by 'pd.read_json'. The tiles are \"hashtags\", \"tweet_id\", \"text\".  \n",
    "Step 2. Combine data_identification with dataframe by 'pd.merge', and seperate training dataset and testing dataset.  \n",
    "Step 3. Combine emotions to training dataset by 'pd.merge' as well.  \n",
    "  \n",
    "1.2 Save Data  \n",
    "save as pickle so next time we don't need to load data again. \n",
    "  \n",
    "1.3 EDA  \n",
    "To check the ration of each emotion.\n",
    "\n",
    "## 2. Feature Engineering\n",
    "Step 1. train/val split  \n",
    "in order to make sure our model is imporving, we need a validation dataset. So I use train test split to seperate them. The ratio of train:val = 8:2.  \n",
    "  \n",
    "Step 2. Extract features  \n",
    "I immitate the Lab2 master first. Use BOW and nltk tokenizer to do phrasing, and use simple model to see it's result.    \n",
    "The same as Lab2 master, nltk's result is better then BOW, so next step I use nltk tokenizer to do TFIDF.  \n",
    "  \n",
    "Step 3. TFIDF  \n",
    "Next I do TFIDF to find out some important words which are helpful to predict the emotions. Because the words are pretty much, I sort the higheet 2000 and 20000 words. Use logistic regression to classify. The result shows the more TFIDF words we chose, the higher validation accuracy we got. \n",
    "\n",
    "## 3. Models  \n",
    "The first part is to extract features from X_train, ex. BOW, NLTK, TFIDF.   \n",
    "  \n",
    "Next is trying different classifiers, includes:\n",
    "1. **Decision Tree**  \n",
    "The training accuracy of Decision Tree could be very high. However, the validation data is low. It's might because of overfitting.\n",
    "2. **Naive Bayes**   \n",
    "The accuracy of Naive Bayes is lower than Decision Tree, not very out standing.\n",
    "3. **Random Forest**  \n",
    "Random forest combines the results from different tree. I think the performance is obviously influenced by the distribution of each emotions. Unbalance distribution will cause worse result. Take this case for example, \"joy\" class take a high percentage of training data (We can observe from EDA part). So every tree are easily to predict the text as \"joy\". When we combine those trees as commitee, \"joy\" result will be the most and become the final result. Thus, the results are almost \"joy\" in every case.\n",
    "4. **Logistic Regression**  \n",
    "Next I try a differnt Logistic regression. This model is recommended by a paper. After experiences, it's much higher than previous 3 models. I also increase the TFIDF feature from 2000 to 20000. The results become better and better. I stop at 20000 features due to the limitation of computational resource.  \n",
    "5. **Deep Learning**  \n",
    "Finally I tried a common classifer: neural network. From the previous result, we can said the more feature the better. Thus, I chose 20000 TFIDF features as the input, and tuning the networks. Finally I use 3 hidden layers. The size are (254, 64, 16). Training epochs is 100. After uploading to Kaggle, the testing result is 0.44419.\n",
    "\n",
    "## 4. Evaluation \n",
    "This part is evaluate the validation result. I draw the confusion matrix to see the predicted result.  \n",
    "Notice that due to the unbalance dataset, the color of \"joy\" column is deeper than the others, but it doesn't mean other predictions are bad. We still need to see the numbers in the grid.\n",
    "\n",
    "## 5. Output the result\n",
    "Finally is using the trained model to predict testing dataset, and output as csv file. Then we can directly upload it to Kaggle and see the result.   \n"
   ]
  },
  {
   "cell_type": "code",
   "execution_count": null,
   "metadata": {},
   "outputs": [],
   "source": []
  }
 ],
 "metadata": {
  "kernelspec": {
   "display_name": "Python 3 (ipykernel)",
   "language": "python",
   "name": "python3"
  },
  "language_info": {
   "codemirror_mode": {
    "name": "ipython",
    "version": 3
   },
   "file_extension": ".py",
   "mimetype": "text/x-python",
   "name": "python",
   "nbconvert_exporter": "python",
   "pygments_lexer": "ipython3",
   "version": "3.9.13"
  },
  "varInspector": {
   "cols": {
    "lenName": 16,
    "lenType": 16,
    "lenVar": 40
   },
   "kernels_config": {
    "python": {
     "delete_cmd_postfix": "",
     "delete_cmd_prefix": "del ",
     "library": "var_list.py",
     "varRefreshCmd": "print(var_dic_list())"
    },
    "r": {
     "delete_cmd_postfix": ") ",
     "delete_cmd_prefix": "rm(",
     "library": "var_list.r",
     "varRefreshCmd": "cat(var_dic_list()) "
    }
   },
   "types_to_exclude": [
    "module",
    "function",
    "builtin_function_or_method",
    "instance",
    "_Feature"
   ],
   "window_display": false
  }
 },
 "nbformat": 4,
 "nbformat_minor": 2
}
